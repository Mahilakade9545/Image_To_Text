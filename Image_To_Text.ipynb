{
 "cells": [
  {
   "cell_type": "code",
   "execution_count": 5,
   "id": "3be0dd42-edf5-4ef0-8848-48427c5520f8",
   "metadata": {},
   "outputs": [
    {
     "name": "stdout",
     "output_type": "stream",
     "text": [
      "It was the best of\n",
      "times, it was the worst\n",
      "of times, it was the age\n",
      "of wisdom, it was the\n",
      "age of foolishness...\n",
      "\f",
      "\n"
     ]
    }
   ],
   "source": [
    "import numpy as np\n",
    "import cv2\n",
    "import pytesseract\n",
    "\n",
    "class OCR:\n",
    "    def __init__(self):\n",
    "        self.path = r'/home/appa/Downloads/pytesseract/tesseract.exe'\n",
    "        \n",
    "    def extract(self, filename):\n",
    "        try:\n",
    "            pytesseract.tesseract_cmd = self.path\n",
    "            \n",
    "            text = pytesseract.image_to_string(filename)\n",
    "            return text\n",
    "        except Exception as e:\n",
    "            print(e)\n",
    "            return \"error\"\n",
    "ocr = OCR()\n",
    "text = ocr.extract(\"/home/appa/Desktop/2.png\")\n",
    "print(text)"
   ]
  },
  {
   "cell_type": "code",
   "execution_count": null,
   "id": "ee52296b-4b08-44f4-b441-ab94dff19a5a",
   "metadata": {},
   "outputs": [],
   "source": []
  }
 ],
 "metadata": {
  "kernelspec": {
   "display_name": "Python 3 (ipykernel)",
   "language": "python",
   "name": "python3"
  },
  "language_info": {
   "codemirror_mode": {
    "name": "ipython",
    "version": 3
   },
   "file_extension": ".py",
   "mimetype": "text/x-python",
   "name": "python",
   "nbconvert_exporter": "python",
   "pygments_lexer": "ipython3",
   "version": "3.9.7"
  }
 },
 "nbformat": 4,
 "nbformat_minor": 5
}
